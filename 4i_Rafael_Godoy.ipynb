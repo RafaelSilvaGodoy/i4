{
  "nbformat": 4,
  "nbformat_minor": 0,
  "metadata": {
    "colab": {
      "name": "4i_Rafael_Godoy.ipynb",
      "provenance": []
    },
    "kernelspec": {
      "name": "python3",
      "display_name": "Python 3"
    }
  },
  "cells": [
    {
      "cell_type": "code",
      "metadata": {
        "id": "LaZ1FQEcjnSa",
        "colab_type": "code",
        "colab": {}
      },
      "source": [
        "import pandas as pd"
      ],
      "execution_count": 3,
      "outputs": []
    },
    {
      "cell_type": "code",
      "metadata": {
        "id": "JJ3okPkEj8Te",
        "colab_type": "code",
        "colab": {
          "base_uri": "https://localhost:8080/",
          "height": 124
        },
        "outputId": "c422100d-8c5b-497b-d4ec-d1707607ecc4"
      },
      "source": [
        "df = pd.read_csv('/content/TFP.csv')\n",
        "print(df.head())"
      ],
      "execution_count": 8,
      "outputs": [
        {
          "output_type": "stream",
          "text": [
            "  isocode  year    rtfpna\n",
            "0     USA  1950  0.617148\n",
            "1     USA  1951  0.629588\n",
            "2     USA  1952  0.638451\n",
            "3     USA  1953  0.651858\n",
            "4     USA  1954  0.646179\n"
          ],
          "name": "stdout"
        }
      ]
    }
  ]
}